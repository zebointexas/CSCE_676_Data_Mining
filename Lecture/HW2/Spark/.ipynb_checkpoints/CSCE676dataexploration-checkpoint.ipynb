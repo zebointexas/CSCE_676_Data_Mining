{
 "cells": [
  {
   "cell_type": "markdown",
   "metadata": {
    "collapsed": true
   },
   "source": [
    "#### CSCE 676 :: Data Mining and Analysis :: Fall 2019\n",
    "\n",
    "\n",
    "# Basic Data Exploration\n",
    "\n",
    "*Notebook overview:* This notebook shows off some basic data exploration skills using NumPy, Matplotlib, Seaborn and Pandas."
   ]
  },
  {
   "cell_type": "markdown",
   "metadata": {},
   "source": [
    "## Load Data Sets\n",
    "In Python, it is easy to load data from any source with various formats (TXT, CSV, JSON, XLS) by employing predefined packages. For instance, our data is with the format of CSV, which is read by making use of Pandas that features a number of functions for importing tabular data as a [DataFrame](http://pandas.pydata.org/pandas-docs/stable/generated/pandas.DataFrame.html) object. \n",
    "\n",
    "Taking as an example, load in recent_grads.csv and save it into a DataFrame object."
   ]
  },
  {
   "cell_type": "code",
   "execution_count": null,
   "metadata": {},
   "outputs": [],
   "source": [
    "import pandas as pd\n",
    "\n",
    "import pandas as pd\n",
    "data_path='./data/recent-grads.csv'\n",
    "\n",
    "# reading the csv file into a dataframe object using Pandas\n",
    "df = pd.read_csv(data_path)\n",
    "# print out all variables\n",
    "print(list(df.columns.values))"
   ]
  },
  {
   "cell_type": "markdown",
   "metadata": {},
   "source": [
    "## Calculate Basic Statistics\n",
    "So far, the data has been succesfully loaded into the memory of your computer. It is a good time to calculate some basic statisticas in terms of some variables in this dataset, e.g., mean, median, standard deviation, max, min, etc. by leveraging [NumPy](http://www.numpy.org).\n",
    "\n",
    "First of all, let's have a look at how many the samples are in this dataset."
   ]
  },
  {
   "cell_type": "code",
   "execution_count": null,
   "metadata": {},
   "outputs": [],
   "source": [
    "numObv, numVar = df.shape\n",
    "print(\"This dataset contains {0} samples with {1} variables.\".format(numObv, numVar))"
   ]
  },
  {
   "cell_type": "markdown",
   "metadata": {},
   "source": [
    "And then, let's calculate the mean of some selected variables in the dataset."
   ]
  },
  {
   "cell_type": "code",
   "execution_count": null,
   "metadata": {},
   "outputs": [],
   "source": [
    "import numpy as np\n",
    "\n",
    "# calculate the mean of the total number of students across all majors\n",
    "df_total = df['Total']\n",
    "mean_total = int(round(np.mean(df_total)))\n",
    "print(\"The mean of the total number of students across all majors is {0}.\".format(mean_total))\n",
    "\n",
    "# calculate the mean of the total number of full-time students across all majors\n",
    "df_fulltime = df['Full_time']\n",
    "mean_fulltime = int(round(np.mean(df_fulltime)))\n",
    "print(\"The mean of the total number of full-time students across all majors is {0}.\".format(mean_fulltime))\n",
    "\n",
    "# calculate the ratio of full-time students\n",
    "ratio_fulltime = float(mean_fulltime)/mean_total\n",
    "print(\"The ratio of full-time students is {0:0.2f}.\".format(ratio_fulltime))"
   ]
  },
  {
   "cell_type": "markdown",
   "metadata": {},
   "source": [
    "Let's take a look at how to calculate the median of variables selected above."
   ]
  },
  {
   "cell_type": "code",
   "execution_count": null,
   "metadata": {},
   "outputs": [],
   "source": [
    "# calculate the median of the total number of students across all majors\n",
    "median_total = int(round(np.median(df_total)))\n",
    "print(\"The median of the total number of students across all majors is {0}.\".format(mean_total))\n",
    "\n",
    "# calculate the median of the total number of full-time students across all majors\n",
    "mean_fulltime = int(round(np.median(df_fulltime)))\n",
    "print(\"The median of the total number of full-time students across all majors is {0}.\".format(mean_fulltime))"
   ]
  },
  {
   "cell_type": "markdown",
   "metadata": {},
   "source": [
    "Following the similar routine, we can easily calulate other basic statistics with respect to these variables. All these statistics can be visulized by making use of [Matplotlib](http://matplotlib.org) introduced later in this notebook."
   ]
  },
  {
   "cell_type": "code",
   "execution_count": null,
   "metadata": {},
   "outputs": [],
   "source": [
    "# calculate the standard deviation of the total number of students across all majors\n",
    "std_total = np.std(df_total)\n",
    "print(\"The standard deviation of the total number of students across all majors is {0:0.2f}.\".format(std_total))\n",
    "\n",
    "# calculate the standard deviation of the total number of full-time students across all majors\n",
    "std_fulltime = np.std(df_fulltime)\n",
    "print(\"The standard deviation of the total number of full-time students across all majors is {0:0.2f}.\".format(std_fulltime))"
   ]
  },
  {
   "cell_type": "code",
   "execution_count": null,
   "metadata": {},
   "outputs": [],
   "source": [
    "df_major = df['Major']\n",
    "\n",
    "# calculate the max of the total number of students across all majors\n",
    "max_total = np.max(df_total)\n",
    "max_idx_total = np.argmax(df_total)\n",
    "max_major = df_major[max_idx_total]\n",
    "print(\"The max of the total number of students across all majors is {0} in the major {1}.\".format(max_total, max_major))\n",
    "\n",
    "# calculate the min of the total number of students across all majors\n",
    "min_total = np.min(df_total)\n",
    "min_idx_total = np.argmin(df_total)\n",
    "min_major = df_major[min_idx_total]\n",
    "print(\"The min of the total number of students across all majors is {0} in the major {1}.\".format(min_total, min_major))"
   ]
  },
  {
   "cell_type": "markdown",
   "metadata": {},
   "source": [
    "## Data Visualization\n",
    "Data visualization always helps to understand the data easily. Python has library like matplotlib and seaborn to create multiple graphs effectively. Let’s look at the some of the visualization to understand some variable(s) in the dataset."
   ]
  },
  {
   "cell_type": "markdown",
   "metadata": {},
   "source": [
    "### Histogram\n",
    "Let's check the distribution of ratio of female students across all majors by plotting histogram."
   ]
  },
  {
   "cell_type": "code",
   "execution_count": null,
   "metadata": {},
   "outputs": [],
   "source": [
    "# special IPython command to prepare the notebook for matplotlib\n",
    "%matplotlib inline\n",
    "\n",
    "import matplotlib.pyplot as plt\n",
    "\n",
    "df_sharewomen = df['ShareWomen']\n",
    "\n",
    "plt.hist(df_sharewomen, bins=10)\n",
    "plt.title('Distribution of Ratio of Female Students')\n",
    "plt.xlabel('Ratio')\n",
    "plt.ylabel('Number of Majors')\n",
    "plt.show()"
   ]
  },
  {
   "cell_type": "markdown",
   "metadata": {},
   "source": [
    "### Scatter Plot\n",
    "Let's check if female students are more towards majors with less students. "
   ]
  },
  {
   "cell_type": "code",
   "execution_count": null,
   "metadata": {},
   "outputs": [],
   "source": [
    "plt.scatter(df_total, df_sharewomen, c=\"g\", alpha=0.5)\n",
    "plt.title('Total number of students VS. Ratio of female students')\n",
    "plt.xlabel('Total Number of Students')\n",
    "plt.ylabel('Ratio of Female Students')\n",
    "plt.show()"
   ]
  },
  {
   "cell_type": "markdown",
   "metadata": {},
   "source": [
    "### Box-Plot\n",
    "Let's produce a box-plot for the rate of unemployment with different major categories. "
   ]
  },
  {
   "cell_type": "code",
   "execution_count": null,
   "metadata": {},
   "outputs": [],
   "source": [
    "import seaborn as sns\n",
    "# generating a boxplot for unemployment rate across different major categories\n",
    "ax = sns.boxplot(x=\"Major_category\", y=\"Unemployment_rate\",  data=df)\n",
    "plt.xlabel('Major Category')\n",
    "plt.ylabel('Unemployment Rate')\n",
    "plt.title('Unemployment Rate for Various Major Categories')\n",
    "plt.xticks(rotation=60)\n",
    "plt.show()"
   ]
  },
  {
   "cell_type": "markdown",
   "metadata": {},
   "source": [
    "From the box-plot generated above, it is obvious that majors related to Business have lower unemployment rates comparing with other majors."
   ]
  },
  {
   "cell_type": "code",
   "execution_count": null,
   "metadata": {},
   "outputs": [],
   "source": []
  }
 ],
 "metadata": {
  "anaconda-cloud": {},
  "kernelspec": {
   "display_name": "Python 3",
   "language": "python",
   "name": "python3"
  },
  "language_info": {
   "codemirror_mode": {
    "name": "ipython",
    "version": 3
   },
   "file_extension": ".py",
   "mimetype": "text/x-python",
   "name": "python",
   "nbconvert_exporter": "python",
   "pygments_lexer": "ipython3",
   "version": "3.7.4"
  }
 },
 "nbformat": 4,
 "nbformat_minor": 1
}
