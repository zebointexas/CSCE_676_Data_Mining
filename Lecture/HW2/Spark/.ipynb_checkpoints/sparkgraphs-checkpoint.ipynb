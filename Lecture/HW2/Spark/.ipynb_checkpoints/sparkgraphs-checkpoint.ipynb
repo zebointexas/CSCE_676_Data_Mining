{
 "cells": [
  {
   "cell_type": "markdown",
   "metadata": {},
   "source": [
    "# PageRank using RDD"
   ]
  },
  {
   "cell_type": "code",
   "execution_count": 1,
   "metadata": {
    "ExecuteTime": {
     "end_time": "2019-09-27T02:27:58.380888Z",
     "start_time": "2019-09-27T02:27:58.376613Z"
    }
   },
   "outputs": [],
   "source": [
    "# a better print for an RDD's content\n",
    "def pprint(rdd):\n",
    "    for x in rdd.take(20):\n",
    "        print x"
   ]
  },
  {
   "cell_type": "code",
   "execution_count": 2,
   "metadata": {},
   "outputs": [],
   "source": [
    "# helper functions for drawing graphs\n",
    "import networkx as nx\n",
    "import matplotlib.pyplot as plt \n",
    "\n",
    "def PlotGraph(edge_list, lone_vertices=[], directed=False):\n",
    "    if directed:\n",
    "        Gplot=nx.DiGraph()   # 有向\n",
    "    else:\n",
    "        Gplot=nx.Graph()     # 無向    \n",
    "        \n",
    "    for row in edge_list.select('src','dst').take(1000):\n",
    "        Gplot.add_edge(row['src'], row['dst'])\n",
    "        \n",
    "    for v in lone_vertices:\n",
    "        Gplot.add_node(\"h\")\n",
    "        \n",
    "    nx.draw(Gplot, with_labels=True)\n",
    "    \n",
    "def PlotGraphRDD(edge_list):\n",
    "    Gplot=nx.DiGraph()\n",
    "    for node in links.take(1000):\n",
    "        for link in node[1]:\n",
    "            Gplot.add_edge(node[0],link)\n",
    "    nx.draw(Gplot, with_labels=True)    "
   ]
  },
  {
   "cell_type": "code",
   "execution_count": 3,
   "metadata": {
    "ExecuteTime": {
     "end_time": "2019-09-27T02:27:59.439930Z",
     "start_time": "2019-09-27T02:27:59.353664Z"
    }
   },
   "outputs": [
    {
     "ename": "NameError",
     "evalue": "name 'sc' is not defined",
     "output_type": "error",
     "traceback": [
      "\u001b[0;31m---------------------------------------------------------------------------\u001b[0m",
      "\u001b[0;31mNameError\u001b[0m                                 Traceback (most recent call last)",
      "\u001b[0;32m<ipython-input-3-0de524150cf8>\u001b[0m in \u001b[0;36m<module>\u001b[0;34m\u001b[0m\n\u001b[0;32m----> 1\u001b[0;31m \u001b[0mtweets\u001b[0m \u001b[0;34m=\u001b[0m \u001b[0msc\u001b[0m\u001b[0;34m.\u001b[0m\u001b[0mtextFile\u001b[0m\u001b[0;34m(\u001b[0m\u001b[0;34m\"congress-sample-10k.json.gz\"\u001b[0m\u001b[0;34m)\u001b[0m\u001b[0;34m.\u001b[0m\u001b[0mcache\u001b[0m\u001b[0;34m(\u001b[0m\u001b[0;34m)\u001b[0m \u001b[0;31m# cache the file content in memory.\u001b[0m\u001b[0;34m\u001b[0m\u001b[0;34m\u001b[0m\u001b[0m\n\u001b[0m\u001b[1;32m      2\u001b[0m \u001b[0;34m\u001b[0m\u001b[0m\n\u001b[1;32m      3\u001b[0m \u001b[0;31m# a sample graph\u001b[0m\u001b[0;34m\u001b[0m\u001b[0;34m\u001b[0m\u001b[0;34m\u001b[0m\u001b[0m\n\u001b[1;32m      4\u001b[0m links = sc.parallelize([\n\u001b[1;32m      5\u001b[0m   \u001b[0;34m(\u001b[0m\u001b[0;34m\"a\"\u001b[0m\u001b[0;34m,\u001b[0m \u001b[0;34m[\u001b[0m\u001b[0;34m'b'\u001b[0m\u001b[0;34m]\u001b[0m\u001b[0;34m)\u001b[0m\u001b[0;34m,\u001b[0m\u001b[0;34m\u001b[0m\u001b[0;34m\u001b[0m\u001b[0m\n",
      "\u001b[0;31mNameError\u001b[0m: name 'sc' is not defined"
     ]
    }
   ],
   "source": [
    "tweets = sc.textFile(\"congress-sample-10k.json.gz\").cache() # cache the file content in memory.\n",
    "\n",
    "# a sample graph\n",
    "links = sc.parallelize([\n",
    "  (\"a\", ['b']),\n",
    "  (\"b\", ['d', 'c']),\n",
    "  (\"c\", ['b']),\n",
    "  (\"d\", ['c', 'a'])\n",
    "]).cache()"
   ]
  },
  {
   "cell_type": "code",
   "execution_count": 4,
   "metadata": {
    "ExecuteTime": {
     "end_time": "2019-09-27T02:28:01.416861Z",
     "start_time": "2019-09-27T02:28:00.263539Z"
    }
   },
   "outputs": [
    {
     "name": "stdout",
     "output_type": "stream",
     "text": [
      "('a', ['b'])\n",
      "('b', ['d', 'c'])\n",
      "('c', ['b'])\n",
      "('d', ['c', 'a'])\n"
     ]
    }
   ],
   "source": [
    "pprint(links)"
   ]
  },
  {
   "cell_type": "code",
   "execution_count": 5,
   "metadata": {},
   "outputs": [
    {
     "data": {
      "image/png": "[encoded data removed]",
      "text/plain": [
       "<Figure size 432x288 with 1 Axes>"
      ]
     },
     "metadata": {},
     "output_type": "display_data"
    }
   ],
   "source": [
    "PlotGraphRDD(links)"
   ]
  },
  {
   "cell_type": "code",
   "execution_count": 6,
   "metadata": {
    "ExecuteTime": {
     "end_time": "2019-09-27T02:28:02.404367Z",
     "start_time": "2019-09-27T02:28:02.390844Z"
    }
   },
   "outputs": [],
   "source": [
    "# we create an RDD to hold the ranks for each node\n",
    "# we each node and initial value of 1.0\n",
    "ranks = links.mapValues(lambda v: 1.0).cache()"
   ]
  },
  {
   "cell_type": "code",
   "execution_count": 7,
   "metadata": {
    "ExecuteTime": {
     "end_time": "2019-09-27T02:28:03.877756Z",
     "start_time": "2019-09-27T02:28:03.325275Z"
    }
   },
   "outputs": [
    {
     "name": "stdout",
     "output_type": "stream",
     "text": [
      "('a', 1.0)\n",
      "('b', 1.0)\n",
      "('c', 1.0)\n",
      "('d', 1.0)\n"
     ]
    }
   ],
   "source": [
    "pprint(ranks)"
   ]
  },
  {
   "cell_type": "code",
   "execution_count": 8,
   "metadata": {
    "ExecuteTime": {
     "end_time": "2019-09-27T02:28:05.942068Z",
     "start_time": "2019-09-27T02:28:04.989466Z"
    }
   },
   "outputs": [
    {
     "name": "stdout",
     "output_type": "stream",
     "text": [
      "('b', 1.0)\n",
      "('c', 0.5)\n",
      "('a', 0.5)\n",
      "('b', 1.0)\n",
      "('d', 0.5)\n",
      "('c', 0.5)\n"
     ]
    }
   ],
   "source": [
    "# contributions is an RDD representing how the individual values each node is receiving\n",
    "contributions = links.join(ranks)\\\n",
    "                    .flatMap(lambda (node, (links, rank)): [(dest, rank/len(links)) for dest in links])\n",
    "pprint(contributions)"
   ]
  },
  {
   "cell_type": "code",
   "execution_count": 9,
   "metadata": {
    "ExecuteTime": {
     "end_time": "2019-09-27T02:28:09.054953Z",
     "start_time": "2019-09-27T02:28:08.367082Z"
    }
   },
   "outputs": [
    {
     "name": "stdout",
     "output_type": "stream",
     "text": [
      "('a', 0.575)\n",
      "('d', 0.575)\n",
      "('c', 1.0)\n",
      "('b', 1.8499999999999999)\n"
     ]
    }
   ],
   "source": [
    "# now, for each vertix, we sum the contributions received from others,\n",
    "# and then apply the pagerank formula (we use 0.15 + 0.85*value) to each value\n",
    "# we assign the new values back to the original ranks RDD.\n",
    "ranks = contributions.reduceByKey(lambda a,b: a+b).map(lambda (node, value): (node, 0.15 + 0.85*value))\n",
    "pprint(ranks)"
   ]
  },
  {
   "cell_type": "markdown",
   "metadata": {},
   "source": [
    "We repeat the above two steps a number of times (e.g. 10 times). "
   ]
  },
  {
   "cell_type": "markdown",
   "metadata": {},
   "source": [
    "# PageRank using Pregel\n",
    "We now use GraphFrames in Spark which has Pregel implementation to define PageRank on our graph and execute it"
   ]
  },
  {
   "cell_type": "code",
   "execution_count": 10,
   "metadata": {
    "ExecuteTime": {
     "end_time": "2019-09-27T02:28:13.003409Z",
     "start_time": "2019-09-27T02:28:12.989160Z"
    }
   },
   "outputs": [],
   "source": [
    "from graphframes import * \n",
    "from graphframes.lib import Pregel\n",
    "sc.setCheckpointDir(\"hdfs:///tmp/graphframes_checkpoint\") # this is needed for any GraphFrames operation"
   ]
  },
  {
   "cell_type": "code",
   "execution_count": 11,
   "metadata": {
    "ExecuteTime": {
     "end_time": "2019-09-27T02:28:14.294667Z",
     "start_time": "2019-09-27T02:28:13.833536Z"
    },
    "scrolled": true
   },
   "outputs": [
    {
     "name": "stdout",
     "output_type": "stream",
     "text": [
      "+---+---+\n",
      "|src|dst|\n",
      "+---+---+\n",
      "|  a|  b|\n",
      "|  b|  d|\n",
      "|  b|  c|\n",
      "|  c|  b|\n",
      "|  d|  c|\n",
      "|  d|  a|\n",
      "+---+---+\n",
      "\n"
     ]
    }
   ],
   "source": [
    "edges = spark.createDataFrame([\n",
    "    ['a', 'b'],\n",
    "    ['b', 'd'],\n",
    "    ['b', 'c'],\n",
    "    ['c', 'b'],\n",
    "    ['d', 'c'],\n",
    "    ['d', 'a']\n",
    "], [\"src\", \"dst\"]).cache()\n",
    "edges.show()"
   ]
  },
  {
   "cell_type": "code",
   "execution_count": 12,
   "metadata": {
    "ExecuteTime": {
     "end_time": "2019-09-27T02:28:16.920464Z",
     "start_time": "2019-09-27T02:28:16.556018Z"
    }
   },
   "outputs": [
    {
     "name": "stdout",
     "output_type": "stream",
     "text": [
      "+---+\n",
      "| id|\n",
      "+---+\n",
      "|  a|\n",
      "|  b|\n",
      "|  c|\n",
      "|  d|\n",
      "+---+\n",
      "\n"
     ]
    }
   ],
   "source": [
    "vertices = spark.createDataFrame([['a'], ['b'], ['c'], ['d']], [\"id\"]).cache()\n",
    "vertices.show()"
   ]
  },
  {
   "cell_type": "code",
   "execution_count": 13,
   "metadata": {
    "ExecuteTime": {
     "end_time": "2019-09-27T02:28:18.544650Z",
     "start_time": "2019-09-27T02:28:18.538315Z"
    }
   },
   "outputs": [],
   "source": [
    "graph = GraphFrame(vertices, edges)"
   ]
  },
  {
   "cell_type": "code",
   "execution_count": 14,
   "metadata": {},
   "outputs": [
    {
     "data": {
      "image/png": "[encoded data removed]",
      "text/plain": [
       "<Figure size 432x288 with 1 Axes>"
      ]
     },
     "metadata": {},
     "output_type": "display_data"
    }
   ],
   "source": [
    "PlotGraph(edges, directed=True)"
   ]
  },
  {
   "cell_type": "code",
   "execution_count": 15,
   "metadata": {
    "ExecuteTime": {
     "end_time": "2019-09-27T02:28:20.369342Z",
     "start_time": "2019-09-27T02:28:19.818000Z"
    }
   },
   "outputs": [
    {
     "name": "stdout",
     "output_type": "stream",
     "text": [
      "+---+---------+\n",
      "| id|outDegree|\n",
      "+---+---------+\n",
      "|  d|        2|\n",
      "|  c|        1|\n",
      "|  b|        2|\n",
      "|  a|        1|\n",
      "+---+---------+\n",
      "\n"
     ]
    }
   ],
   "source": [
    "# The above garph we just created has a column called outDegree. We need this for PageRank \n",
    "# we define a new verticies dataframe that has this outDegree as a column.\n",
    "vertices = graph.outDegrees\n",
    "vertices.show()"
   ]
  },
  {
   "cell_type": "code",
   "execution_count": 16,
   "metadata": {
    "ExecuteTime": {
     "end_time": "2019-09-27T02:28:21.983294Z",
     "start_time": "2019-09-27T02:28:21.978241Z"
    }
   },
   "outputs": [],
   "source": [
    "# We now redefine our graph\n",
    "graph = GraphFrame(vertices, edges)"
   ]
  },
  {
   "cell_type": "markdown",
   "metadata": {},
   "source": [
    "Below we define our pregel specification for the PageRank.\n",
    "* we use 5 iterations (change this to 1 to see the values after a single iteration)\\\n",
    "* rank is a column name where the pagerank at the end of each *superstep* will be stored\n",
    "* `F.lit(1.0)` is the initilization value for all nodes\n",
    "* `Pregel.msg()` is a value that Pregel framework will send to each node after some aggregation function\n",
    "* the aggregation function is provided in the `aggMsgs(...)`. Here we instruct Pregel to sum all received values from neighbouring ndoes and then pass the result to the nodes. The result can be accessed with `Pregel.msg()`\n",
    "* `sendMsgToDst(...)` is executed at each node.\n",
    "* in the `withVertexColumn`, the node doesn't just use the value passed to it by Pregel (the sum) but it will also apply the PageRank formula to it and use the result as a final value.\n",
    "\n",
    "The process is repeated a number of times"
   ]
  },
  {
   "cell_type": "code",
   "execution_count": 17,
   "metadata": {
    "ExecuteTime": {
     "end_time": "2019-09-27T02:29:19.397796Z",
     "start_time": "2019-09-27T02:28:55.154796Z"
    }
   },
   "outputs": [],
   "source": [
    "import pyspark.sql.functions as F # needed for defining literals below and the sum(...) function\n",
    "ranks = graph.pregel \\\n",
    "             .setMaxIter(5) \\\n",
    "             .withVertexColumn(\"rank\", \n",
    "                               F.lit(1.0),\n",
    "                               Pregel.msg() * F.lit(0.85) + F.lit(0.15) \n",
    "                              ) \\\n",
    "             .sendMsgToDst(Pregel.src(\"rank\") / Pregel.src(\"outDegree\"))\\\n",
    "             .aggMsgs(F.sum(Pregel.msg())).run()  "
   ]
  },
  {
   "cell_type": "code",
   "execution_count": 18,
   "metadata": {
    "ExecuteTime": {
     "end_time": "2019-09-27T02:29:22.241457Z",
     "start_time": "2019-09-27T02:29:20.996822Z"
    }
   },
   "outputs": [
    {
     "name": "stdout",
     "output_type": "stream",
     "text": [
      "+---+---------+-------------------+\n",
      "| id|outDegree|               rank|\n",
      "+---+---------+-------------------+\n",
      "|  d|        2| 0.8381819140624998|\n",
      "|  c|        1| 1.1708373828124996|\n",
      "|  b|        2| 1.5083252343749995|\n",
      "|  a|        1|0.48265546874999987|\n",
      "+---+---------+-------------------+\n",
      "\n"
     ]
    }
   ],
   "source": [
    "ranks.show()"
   ]
  },
  {
   "cell_type": "markdown",
   "metadata": {},
   "source": [
    "Below we execute PageRank using GraphFrames implementation"
   ]
  },
  {
   "cell_type": "code",
   "execution_count": 19,
   "metadata": {
    "ExecuteTime": {
     "end_time": "2019-09-27T02:29:49.180275Z",
     "start_time": "2019-09-27T02:29:47.368748Z"
    }
   },
   "outputs": [
    {
     "name": "stdout",
     "output_type": "stream",
     "text": [
      "+---+---------+------------------+\n",
      "| id|outDegree|          pagerank|\n",
      "+---+---------+------------------+\n",
      "|  c|        1|1.1708373828124998|\n",
      "|  b|        2|    1.508325234375|\n",
      "|  a|        1|     0.48265546875|\n",
      "|  d|        2|   0.8381819140625|\n",
      "+---+---------+------------------+\n",
      "\n"
     ]
    }
   ],
   "source": [
    "results = graph.pageRank(resetProbability=0.15, maxIter=5)\n",
    "results.vertices.show()"
   ]
  },
  {
   "cell_type": "markdown",
   "metadata": {},
   "source": [
    "# Connected Components"
   ]
  },
  {
   "cell_type": "markdown",
   "metadata": {},
   "source": [
    "The idea of the connected components Pregel algorithm below is that we give numric ids to all the nodes and then at each superstep, each node will send its id to all neighbours. Then in superstep s+1, when the messages are aggregated the max number is chosen and assigned as a new id. Repeated enough times this will end up with the a unique number for each connected component."
   ]
  },
  {
   "cell_type": "code",
   "execution_count": 20,
   "metadata": {
    "ExecuteTime": {
     "end_time": "2019-09-27T02:31:16.238454Z",
     "start_time": "2019-09-27T02:31:15.670257Z"
    }
   },
   "outputs": [
    {
     "name": "stdout",
     "output_type": "stream",
     "text": [
      "+---+---+\n",
      "|src|dst|\n",
      "+---+---+\n",
      "|  a|  b|\n",
      "|  a|  c|\n",
      "|  b|  c|\n",
      "|  b|  d|\n",
      "|  d|  e|\n",
      "|  f|  g|\n",
      "+---+---+\n",
      "\n",
      "+---+---+\n",
      "|src|dst|\n",
      "+---+---+\n",
      "|  a|  b|\n",
      "|  a|  c|\n",
      "|  b|  c|\n",
      "|  b|  d|\n",
      "|  d|  e|\n",
      "|  f|  g|\n",
      "|  a|  b|\n",
      "|  a|  c|\n",
      "|  b|  c|\n",
      "|  b|  d|\n",
      "|  d|  e|\n",
      "|  f|  g|\n",
      "+---+---+\n",
      "\n"
     ]
    }
   ],
   "source": [
    "edges = spark.createDataFrame([\n",
    "    ['a', 'b'],\n",
    "    ['a', 'c'],\n",
    "    ['b', 'c'],\n",
    "    ['b', 'd'],\n",
    "    ['d', 'e'],\n",
    "    ['f', 'g']\n",
    "], [\"src\", \"dst\"]).cache()\n",
    "edges.show()\n",
    "\n",
    "# We add reverse edges to make this graph an *undirected* one\n",
    "edges = edges.union(edges.withColumnRenamed(\"src\",\"dst_temp\")\\\n",
    "                         .withColumnRenamed(\"dst\",\"src\")\\\n",
    "                         .withColumnRenamed(\"dst_temp\",\"dst\"))\n",
    "edges.show()"
   ]
  },
  {
   "cell_type": "code",
   "execution_count": 21,
   "metadata": {
    "ExecuteTime": {
     "end_time": "2019-09-27T02:31:23.500826Z",
     "start_time": "2019-09-27T02:31:23.106521Z"
    }
   },
   "outputs": [
    {
     "name": "stdout",
     "output_type": "stream",
     "text": [
      "+---+------+\n",
      "| id|id_int|\n",
      "+---+------+\n",
      "|  a|     1|\n",
      "|  b|     2|\n",
      "|  c|     3|\n",
      "|  d|     4|\n",
      "|  e|     5|\n",
      "|  f|     6|\n",
      "|  g|     7|\n",
      "|  h|     8|\n",
      "+---+------+\n",
      "\n"
     ]
    }
   ],
   "source": [
    "# We add integer ids to the nodes to use in the connected component algorithm. \n",
    "# The function `F.monotonically_increasing_id()` maybe also be used for this objective.\n",
    "vertices = spark.createDataFrame([['a',1], ['b',2], ['c',3], ['d',4],\n",
    "                                  ['e',5],['f',6],['g',7],['h',8]], [\"id\",'id_int']).cache()\n",
    "vertices.show()"
   ]
  },
  {
   "cell_type": "code",
   "execution_count": 22,
   "metadata": {
    "ExecuteTime": {
     "end_time": "2019-09-27T02:31:30.661824Z",
     "start_time": "2019-09-27T02:31:30.655184Z"
    }
   },
   "outputs": [],
   "source": [
    "graph = GraphFrame(vertices, edges)"
   ]
  },
  {
   "cell_type": "code",
   "execution_count": 23,
   "metadata": {},
   "outputs": [
    {
     "data": {
      "image/png": "[encoded data removed]",
      "text/plain": [
       "<Figure size 432x288 with 1 Axes>"
      ]
     },
     "metadata": {},
     "output_type": "display_data"
    }
   ],
   "source": [
    "PlotGraph(edges, directed=False, lone_vertices=['h'])"
   ]
  },
  {
   "cell_type": "markdown",
   "metadata": {},
   "source": [
    "Algorithm sketch:\n",
    "* we define a new column `component`\n",
    "* initialize the values to each node own id\n",
    "* at each iteration, if the node recevies a value from Pregel then use it, otherwise just use the previous value. This is achieved with the `F.coalesce(a,b)` function\n",
    "* each node sends its own id to the neighbouts\n",
    "* Pregel chooses the max id and passes it to the neighbours.\n",
    "* Repeated enough times this will end up with all nodes in a given component having the max id among them"
   ]
  },
  {
   "cell_type": "code",
   "execution_count": 24,
   "metadata": {
    "ExecuteTime": {
     "end_time": "2019-09-27T02:31:40.228072Z",
     "start_time": "2019-09-27T02:31:32.961100Z"
    }
   },
   "outputs": [
    {
     "name": "stdout",
     "output_type": "stream",
     "text": [
      "+---+------+---------+\n",
      "| id|id_int|component|\n",
      "+---+------+---------+\n",
      "|  a|     1|        1|\n",
      "|  b|     2|        1|\n",
      "|  c|     3|        1|\n",
      "|  d|     4|        1|\n",
      "|  e|     5|        1|\n",
      "|  f|     6|        6|\n",
      "|  g|     7|        6|\n",
      "|  h|     8|        8|\n",
      "+---+------+---------+\n",
      "\n"
     ]
    }
   ],
   "source": [
    "ranks = graph.pregel \\\n",
    "             .setMaxIter(5) \\\n",
    "             .withVertexColumn(\"component\",\n",
    "                               F.col(\"id_int\"),\n",
    "                               F.coalesce(Pregel.msg(), F.col(\"component\"))\n",
    "                              ) \\\n",
    "             .sendMsgToDst(Pregel.src(\"component\"))\\\n",
    "             .aggMsgs(F.max(Pregel.msg())).run()\n",
    "ranks.show()                "
   ]
  },
  {
   "cell_type": "markdown",
   "metadata": {},
   "source": [
    "To use GraphFrames own implemenation for connected components we just run `connectedComponents()` function "
   ]
  },
  {
   "cell_type": "code",
   "execution_count": 25,
   "metadata": {
    "ExecuteTime": {
     "end_time": "2019-09-27T02:31:57.396580Z",
     "start_time": "2019-09-27T02:31:42.814790Z"
    }
   },
   "outputs": [
    {
     "name": "stdout",
     "output_type": "stream",
     "text": [
      "+---+------+------------+\n",
      "| id|id_int|   component|\n",
      "+---+------+------------+\n",
      "|  a|     1|670014898176|\n",
      "|  b|     2|670014898176|\n",
      "|  c|     3|670014898176|\n",
      "|  d|     4|670014898176|\n",
      "|  e|     5|670014898176|\n",
      "|  f|     6|146028888064|\n",
      "|  g|     7|146028888064|\n",
      "|  h|     8|704374636544|\n",
      "+---+------+------------+\n",
      "\n"
     ]
    }
   ],
   "source": [
    "graph.connectedComponents().show()"
   ]
  }
 ],
 "metadata": {
  "kernelspec": {
   "display_name": "Python 3",
   "language": "python",
   "name": "python3"
  },
  "language_info": {
   "codemirror_mode": {
    "name": "ipython",
    "version": 3
   },
   "file_extension": ".py",
   "mimetype": "text/x-python",
   "name": "python",
   "nbconvert_exporter": "python",
   "pygments_lexer": "ipython3",
   "version": "3.7.4"
  }
 },
 "nbformat": 4,
 "nbformat_minor": 2
}
