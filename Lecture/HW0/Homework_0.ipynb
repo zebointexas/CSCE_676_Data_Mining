{
 "cells": [
  {
   "cell_type": "markdown",
   "metadata": {},
   "source": [
    "#### CSCE 676 :: Data Mining and Analysis :: Texas A&M University :: Fall 2019\n",
    "\n",
    "\n",
    "# Homework 0: Let's get it started\n",
    "\n",
    "- **100 points [1% of your final grade]**\n",
    "- **Due Monday, September 2 by 11:59pm**\n",
    "\n",
    "*Goals of this homework:* The objective of this homework is to prepare your development environment, get familiar with iPython in a Jupyter notebook, and then do some beginning exercises.\n",
    "\n",
    "*Submission instructions:* You should post your notebook to ecampus (look for the homework 0 assignment there). Please name your submission **your-uin_hw0.ipynb**, so for example, my submission would be something like **555001234_hw0.ipynb**. Your notebook should be fully executed when you submit ... so run all the cells for us so we can see the output, then submit that.\n",
    "\n",
    "*Grading:* This is a stress-free homework. For this starter homework, we will only check that you have submitted a notebook with at least some code to ecampus. We will not check for completeness or correctness. Basically, do your best and submit = 100."
   ]
  },
  {
   "cell_type": "markdown",
   "metadata": {},
   "source": [
    "## iPython, Python, and our Expectations\n",
    "\n",
    "This homework and all subsequent homeworks will use iPython in a Jupyter notebook. iPython is just an interactive shell for programming in the Python language. A few years ago, the developers created a generic interactive shell called Jupyter that supports languages beyond just Python. This can be a bit confusing, and we'll add a bit to the confusion by referring to iPython and Jupyter interchangeably in this course.\n",
    "\n",
    "With respect to Python, we do not expect you to have any prior experience. We do, however, expect you to have proficiency in some programming language (so you've seen loops, conditionals, functions, etc.) and a willingness to experiment and learn on your own. Python is a fun language and you should be able to pick up the necessary portions as we move along; however, this may require you to spend some extra cycles consulting online documentation, referring to a Python book, or scouring over StackOverflow. \n",
    "\n",
    "A few basic Python pointers:\n",
    "* http://introtopython.org\n",
    "* http://ricardoduarte.github.io/python-for-developers/\n",
    "* http://mbakker7.github.io/exploratory_computing_with_python/ [particularly the basic Python language ones]\n",
    "\n",
    "We expect your code to be well-documented with appropriate comments. We prefer meaningful variable names and function names. We also expect your code to be compact and sensible -- no super-long lines, nor dense unintelligible lines of code.\n",
    "\n",
    "Note that in this course we will use Python 3.7.\n",
    "\n",
    "In general, Python code is often run from standalone Python modules or files; for this class, we will often run Python from here within the iPython notebook.\n",
    "\n",
    "Now that you're ready, let's take a look at this iPython notebook. You'll notice that it is composed of cells. Some cells have text (like this one), while others contain code and comments. This cell is written in **Markdown** a simple text-to-HTML language. You can find a cheat sheet for Markdown here: https://github.com/adam-p/markdown-here/wiki/Markdown-Cheatsheet. You can toggle a cell between Markdown and code with the toggle button up there on the menu bar.\n",
    "\n",
    "The cell below contains code and can be **executed** by hitting the **Play** button on the menu bar or by hitting **shift + enter**."
   ]
  },
  {
   "cell_type": "code",
   "execution_count": 1,
   "metadata": {},
   "outputs": [
    {
     "name": "stdout",
     "output_type": "stream",
     "text": [
      "Hello world!\n"
     ]
    }
   ],
   "source": [
    "# this is a comment\n",
    "# you can execute this cell by hitting shift+enter\n",
    "# the output will appear immediately below\n",
    "print('Hello world!')"
   ]
  },
  {
   "cell_type": "markdown",
   "metadata": {},
   "source": [
    "Since iPython is just an interactive shell around Python, you can define functions. For example:"
   ]
  },
  {
   "cell_type": "code",
   "execution_count": 2,
   "metadata": {},
   "outputs": [
    {
     "data": {
      "text/plain": [
       "27"
      ]
     },
     "execution_count": 2,
     "metadata": {},
     "output_type": "execute_result"
    }
   ],
   "source": [
    "def cubed(x):\n",
    "    \"\"\" Return the cube of a  \n",
    "        value \"\"\"\n",
    "    return x ** 3\n",
    "\n",
    "cubed(3)"
   ]
  },
  {
   "cell_type": "markdown",
   "metadata": {},
   "source": [
    "You can even access the filesystem with commands like `ls` or `pwd`:"
   ]
  },
  {
   "cell_type": "code",
   "execution_count": 5,
   "metadata": {},
   "outputs": [
    {
     "name": "stdout",
     "output_type": "stream",
     "text": [
      "/Users/dior/Desktop/2019_Fall_Class/676\n",
      "Homework_0       Homework_0.ipynb\n"
     ]
    }
   ],
   "source": [
    "!pwd\n",
    "!ls "
   ]
  },
  {
   "cell_type": "markdown",
   "metadata": {},
   "source": [
    "## Getting Started with Numpy and matplotlib\n",
    "\n",
    "In this part, we're going to get familiar with two important libraries -- Numpy and matplotlib.\n",
    "\n",
    "### Into to Numpy\n",
    "Since Python is an interpreted language, it might not seem like the best choice for data-intensive work. Luckily, almost all of our data workflow stack is built on top of Numpy, a Python library that adds support for large, multi-dimensional arrays and matrices, along with a large library of high-level mathematical functions to operate on these arrays."
   ]
  },
  {
   "cell_type": "code",
   "execution_count": 6,
   "metadata": {},
   "outputs": [
    {
     "name": "stdout",
     "output_type": "stream",
     "text": [
      "Make a 4 row x 2 column matrix of random numbers\n",
      "[[0.82261217 0.58222902]\n",
      " [0.50348249 0.78829778]\n",
      " [0.42371621 0.35323931]\n",
      " [0.376209   0.79553393]]\n",
      "\n",
      "Add 10 to every element\n",
      "[[10.82261217 10.58222902]\n",
      " [10.50348249 10.78829778]\n",
      " [10.42371621 10.35323931]\n",
      " [10.376209   10.79553393]]\n",
      "\n",
      "Get the element at row 3, column 1\n",
      "10.795533927641687\n",
      "\n",
      "Get the first row\n",
      "[10.82261217 10.58222902]\n",
      "\n",
      "Get the first two rows\n",
      "[[10.82261217 10.58222902]\n",
      " [10.50348249 10.78829778]]\n",
      "\n"
     ]
    }
   ],
   "source": [
    "import numpy as np\n",
    "\n",
    "print(\"Make a 4 row x 2 column matrix of random numbers\")\n",
    "x = np.random.random((4, 2))\n",
    "print(x)\n",
    "print()\n",
    "\n",
    "print(\"Add 10 to every element\")\n",
    "x = x + 10\n",
    "print(x)\n",
    "print()\n",
    "\n",
    "print(\"Get the element at row 3, column 1\")\n",
    "print(x[3, 1])\n",
    "print()\n",
    "\n",
    "print(\"Get the first row\")\n",
    "print(x[0, :])\n",
    "print()\n",
    "\n",
    "print(\"Get the first two rows\")\n",
    "print(x[:2])\n",
    "print()"
   ]
  },
  {
   "cell_type": "markdown",
   "metadata": {},
   "source": [
    "Now, it's your turn. Find the maximum, minimum, and mean of the array. This does not require writing a loop. In the code cell below, type `x.m<TAB>`, to find built-in operations that may help you out."
   ]
  },
  {
   "cell_type": "code",
   "execution_count": 21,
   "metadata": {},
   "outputs": [
    {
     "name": "stdout",
     "output_type": "stream",
     "text": [
      "[0.79855361 0.65842426 0.40345021 0.30343576 0.24968072 0.54097663\n",
      " 0.06609327 0.39089775 0.16278803 0.05976849]\n",
      "Maximum is \n",
      "0.7985536085855368\n",
      "Minimum is \n",
      "0.05976849299139064\n",
      "Mean of the array \n",
      "0.3634068722859064\n"
     ]
    }
   ],
   "source": [
    "k = np.random.rand(10)\n",
    "print(k)\n",
    "print(\"Maximum is \")\n",
    "print(np.max(k))\n",
    "print(\"Minimum is \")\n",
    "print(np.min(k))\n",
    "print(\"Mean of the array \")\n",
    "print(np.mean(k))"
   ]
  },
  {
   "cell_type": "markdown",
   "metadata": {},
   "source": [
    "That wasy easy! Now, let's see if you can generate 500 numbers from a uniform distribution between 0 and 10,000, inclusive. That is each random number could be 0, 1, 2, ..., 10,000 with equal chance. What is the maximum, minimum, and mean of these 500 random numbers? *Hint: take a look at np.random* "
   ]
  },
  {
   "cell_type": "code",
   "execution_count": 24,
   "metadata": {},
   "outputs": [
    {
     "data": {
      "text/plain": [
       "array([ 455, 7473, 2900, 6652, 2980, 9787, 9443, 4044, 8082, 7132, 5726,\n",
       "       6502,  467, 9697, 6230, 7022, 6217,  375, 9002, 2408, 5891, 8787,\n",
       "       8320,  200, 7035, 2762, 7884,   71, 2343, 1622,  946, 8479, 4257,\n",
       "       4978, 9815, 2513, 9503,  930,  678,  138, 6384, 7067,  364, 8834,\n",
       "       5422, 1465, 9812, 3299, 3761, 6847, 9087, 6925, 6770,  291, 6907,\n",
       "       8414, 9906, 3526, 2719, 6004, 3193, 5823,  235, 6878, 8574, 5421,\n",
       "       7237,  330, 4299, 5826, 8764, 1107, 4769, 6309, 1843, 5714, 6875,\n",
       "       3111, 7998, 5589, 2030, 6955, 8199, 3289, 3815, 2705, 9468,  786,\n",
       "       7723, 7975, 2048, 5197, 5176, 3448, 7626, 7798, 3214, 1319, 8274,\n",
       "       1853, 1317, 9671, 8091, 4913, 9637, 9887, 9088, 9327, 3861, 9347,\n",
       "       1755,  755, 9979, 8357, 6942, 2531, 5101, 9627, 1647, 6532, 7843,\n",
       "       1659, 8314, 8571, 8593, 4878, 9065,  878, 5741,  209, 3622, 4160,\n",
       "       2733, 5469, 1464, 1329,  268, 7791, 7594, 6341, 3933, 6102, 2371,\n",
       "       3187,  175, 1541,  781, 1964, 5063, 6402, 4262, 3982, 7213, 8303,\n",
       "       3840, 6844, 6654, 9366,  524, 4839, 4556, 8476, 3085, 9188,  127,\n",
       "       3142,  858, 6488, 3976, 9275, 3126, 2138, 7064, 7319, 1157, 1328,\n",
       "       8826, 9518, 1883, 8333, 2310, 5614, 5835, 4346, 5571, 1674, 2729,\n",
       "       8950, 7854, 6927,  365, 6535, 3446,  549,  678, 2087, 8751, 1436,\n",
       "       3412, 2110, 9779, 8123, 8464, 2651, 7083, 5753, 4542, 1483, 3814,\n",
       "       3561, 2750, 5690, 6382, 1049, 5019, 7108,  320, 7970,  142, 5125,\n",
       "       1042, 1394, 9557, 9824, 8940, 8254, 4385, 3226,   54, 8236, 3092,\n",
       "       5664,  182, 2835, 2716, 9637, 9373, 4985, 3930, 9528, 3586, 1106,\n",
       "         67,  202, 2364, 8865, 8245,  318, 5684,  498, 8648, 1895, 6464,\n",
       "       8744, 1156, 7534,  301, 6701, 9750, 8032, 3126, 1432, 1464, 3903,\n",
       "       6059, 4741,  252, 2341, 7809, 5717, 5095, 7345, 3209, 9616, 5717,\n",
       "       1484, 4630, 9169, 6379, 9187, 5783, 2903, 5252, 3931, 2170, 5331,\n",
       "       3370, 2215,   83, 8836, 2001, 7776, 5678, 1210, 8853, 3469, 1330,\n",
       "       5600, 8624,  962, 1898, 3912, 4476,  247, 2567,  929, 3157, 3918,\n",
       "       4119, 6364,  472, 3194, 9860,  478, 9752, 1068, 6079, 1041, 9753,\n",
       "       5525, 5833,  892, 3839, 5638, 2537, 1034, 2837, 8087, 3337, 5348,\n",
       "       3311, 4886, 4722, 6802, 2743, 7339,  820, 2912, 1676, 3100, 4752,\n",
       "       2114, 2996, 5295, 9008, 7439, 4305, 6244, 5712,  365, 8681, 4882,\n",
       "       5462, 2273, 6653,    7, 2603, 2755, 8314, 1262, 4978, 1866,  912,\n",
       "       2134, 4693, 2230, 2107, 7247, 6971, 6775, 2491, 7732, 6410, 4712,\n",
       "        351,  899, 7156, 7321, 5793, 4008, 5412, 7539, 7538, 2189,   25,\n",
       "       5063, 7987, 6278, 8417, 9977, 3958, 3593, 7908, 8899, 7378, 8423,\n",
       "       9140, 5055, 1253, 1118, 9301,  966, 6885, 6186, 4789, 9864,  383,\n",
       "       1208, 8693, 6125,  549, 7882, 1339, 7966, 8452, 4757, 4342, 4495,\n",
       "       5051,  722,  849, 7373,  230, 5497, 3827, 2085, 8118, 8156, 4777,\n",
       "       9147, 3806, 8981, 9797, 8672, 2117, 5479, 2637, 4782, 7693, 8127,\n",
       "       7598, 7101,  777, 9881, 6433,  451, 9870, 1794, 7980, 5986, 4381,\n",
       "       4854, 3040, 1656, 8341, 3117,  827, 6408, 7678, 4178, 2255, 8378,\n",
       "       3594, 9458, 1843, 9465, 6661, 2851, 6987, 3750, 7419, 4034, 5297,\n",
       "       9479, 6782, 9555, 2954, 7465, 7765, 5780,  858, 5104, 3898, 8089,\n",
       "       9760,  123, 5475, 3041, 6898, 1091, 3562, 6699, 1251, 3501, 6345,\n",
       "       3008, 5835, 8174, 8576, 7692])"
      ]
     },
     "execution_count": 24,
     "metadata": {},
     "output_type": "execute_result"
    }
   ],
   "source": [
    "np.random.randint(low=1, high=10000, size=500)"
   ]
  },
  {
   "cell_type": "markdown",
   "metadata": {},
   "source": [
    "### Intro to matplotlib\n",
    "The most widespread Python plotting library is matplotlib. With it, you can create graphs, charts, basic maps, and other data visualizations. Later in the semester, we'll use `seaborn`, a library built on top of matplotlib that provides even more beautiful charts.\n",
    "\n",
    "Below, we provide some simple x and y coordinates that are then plotted. You should update the plot to include:\n",
    "* a label for the x-axis (call it 'X-axis')\n",
    "* a label for the y-axis (call it 'Y-axis')\n",
    "* a label for the x, y1 curve (call it 'Alice')\n",
    "* a label for the x, y2 curve (call it 'Bob')\n",
    "* a legend in the lower right corner"
   ]
  },
  {
   "cell_type": "code",
   "execution_count": 50,
   "metadata": {},
   "outputs": [
    {
     "data": {
      "text/plain": [
       "<matplotlib.legend.Legend at 0x11bfd8e80>"
      ]
     },
     "execution_count": 50,
     "metadata": {},
     "output_type": "execute_result"
    },
    {
     "data": {
      "image/png": "[encoded data removed]",
      "text/plain": [
       "<Figure size 432x288 with 1 Axes>"
      ]
     },
     "metadata": {
      "needs_background": "light"
     },
     "output_type": "display_data"
    }
   ],
   "source": [
    "# this line prepares IPython for working with matplotlib\n",
    "%matplotlib inline  \n",
    "\n",
    "import matplotlib.pyplot as plt  \n",
    "\n",
    "x = [0, 1, 2, 3, 4]  \n",
    "y1 = [10, 12, 10, 10, 12]\n",
    "y2 = [8, 9, 9, 11, 12]\n",
    " \n",
    "# your code here (plus you may need to modify the previous two lines)\n",
    " \n",
    "plt.xlabel(\"X-axis\")\n",
    "plt.ylabel(\"Y-axis\")\n",
    "\n",
    "plt.plot(x,y1,ls='--',lw=2,c='blue',alpha=0.8,label='Alice')\n",
    "plt.plot(x,y2,ls='-.',lw=2,c='red',alpha=0.8,label='Bob')\n",
    "\n",
    " \n",
    "plt.legend(bbox_to_anchor=(1, 0.15),ncol=2)"
   ]
  },
  {
   "cell_type": "markdown",
   "metadata": {},
   "source": [
    "## Python Data Structures\n",
    "Here we introduce some of the popular built-in data structures in Python: list, set and dictionary.\n",
    "#### List"
   ]
  },
  {
   "cell_type": "code",
   "execution_count": 51,
   "metadata": {},
   "outputs": [
    {
     "name": "stdout",
     "output_type": "stream",
     "text": [
      "Add item 7 to the list\n",
      "[1, 5, 6, 3, 4, 0, 7]\n",
      "\n",
      "Remove item 4 from the list\n",
      "[1, 5, 6, 3, 0, 7]\n",
      "\n",
      "Insert item 3 at a position 2\n",
      "[1, 5, 3, 6, 3, 0, 7]\n",
      "\n"
     ]
    }
   ],
   "source": [
    "x=[1, 5, 6, 3, 4, 0]\n",
    "print('Add item 7 to the list')\n",
    "x.append(7)\n",
    "print(x)\n",
    "print()\n",
    "\n",
    "print('Remove item 4 from the list')\n",
    "x.remove(4)\n",
    "print(x)\n",
    "print()\n",
    "\n",
    "print('Insert item 3 at a position 2')\n",
    "x.insert(2,3)\n",
    "print(x)\n",
    "print()"
   ]
  },
  {
   "cell_type": "markdown",
   "metadata": {},
   "source": [
    "Now, it's your turn. Sort the list and then reverse the list. In the code cell below, type x.<TAB>, to find built-in operations that may help you out."
   ]
  },
  {
   "cell_type": "code",
   "execution_count": 59,
   "metadata": {},
   "outputs": [
    {
     "name": "stdout",
     "output_type": "stream",
     "text": [
      "[0, 1, 3, 3, 5, 6, 7]\n",
      "[7, 6, 5, 3, 3, 1, 0]\n"
     ]
    }
   ],
   "source": [
    "x.sort()\n",
    "print(x)\n",
    "x.reverse()\n",
    "print(x)"
   ]
  },
  {
   "cell_type": "markdown",
   "metadata": {},
   "source": [
    "#### Set \n",
    "A set is an unordered collection with no duplicate elements."
   ]
  },
  {
   "cell_type": "code",
   "execution_count": 60,
   "metadata": {},
   "outputs": [
    {
     "name": "stdout",
     "output_type": "stream",
     "text": [
      "{'a', 1, 2, 'c'}\n",
      "{'d', 'c', 4, 5}\n",
      "\n",
      "Check if item a is in set s1\n",
      "True\n",
      "\n",
      "return union of s1 and s2\n",
      "{'d', 1, 2, 4, 5, 'c', 'a'}\n",
      "\n",
      "return intersection of s1 and s2\n",
      "{'c'}\n",
      "\n"
     ]
    }
   ],
   "source": [
    "s1=set([1,2,'a','c'])\n",
    "s2=set([4,5,'d','c'])\n",
    "print(s1)\n",
    "print(s2)\n",
    "print()\n",
    "\n",
    "print('Check if item a is in set s1')\n",
    "print('a' in s1)\n",
    "print()\n",
    "\n",
    "print('return union of s1 and s2')\n",
    "print(s1.union(s2))\n",
    "print()\n",
    "\n",
    "print('return intersection of s1 and s2')\n",
    "print(s1.intersection(s2))\n",
    "print()"
   ]
  },
  {
   "cell_type": "markdown",
   "metadata": {},
   "source": [
    "Now it's your turn to try out .add(), .remove(), .issubset() and .issuperset() built-in operations and report the results. "
   ]
  },
  {
   "cell_type": "code",
   "execution_count": 81,
   "metadata": {},
   "outputs": [
    {
     "name": "stdout",
     "output_type": "stream",
     "text": [
      "{1, 2, 'x', 'c', 'a'}\n",
      "{1, 2, 'x', 'a'}\n",
      "Is s3 a subset of s1?\n",
      "True\n",
      "Is s1 a subset of s3?\n",
      "True\n"
     ]
    }
   ],
   "source": [
    "s1=set([1,2,'a','c'])\n",
    "s2=set([4,5,'d','c'])\n",
    "\n",
    "s1.add('x')\n",
    "print(s1)\n",
    "\n",
    "s1.remove('c')\n",
    "print(s1)\n",
    "\n",
    "\n",
    "s3=set([1,2])\n",
    "print(\"Is s3 a subset of s1?\")\n",
    "print(s3.issubset(s1))\n",
    "print(\"Is s1 a subset of s3?\")\n",
    "print(s1.issuperset(s3))\n"
   ]
  },
  {
   "cell_type": "markdown",
   "metadata": {},
   "source": [
    "#### Dictionary\n",
    "Unlike sequential data structures, which are indexed by a range of numbers, dictionaries are indexed by keys, which can be any type like strings and numbers.\n"
   ]
  },
  {
   "cell_type": "code",
   "execution_count": 82,
   "metadata": {},
   "outputs": [
    {
     "name": "stdout",
     "output_type": "stream",
     "text": [
      "{'fruit': ['apple', 'orange'], 'animal': ['cat', 'dog']}\n",
      "\n",
      "add food with value of soup\n",
      "{'fruit': ['apple', 'orange'], 'animal': ['cat', 'dog'], 'food': ['soup']}\n",
      "\n",
      "add value of banana into fruit\n",
      "{'fruit': ['apple', 'orange', 'banana'], 'animal': ['cat', 'dog'], 'food': ['soup']}\n"
     ]
    }
   ],
   "source": [
    "dic = {'fruit': ['apple', 'orange'], 'animal': ['cat', 'dog']}\n",
    "print(dic)\n",
    "print()\n",
    "\n",
    "print('add food with value of soup')\n",
    "dic['food']=['soup']\n",
    "print(dic)\n",
    "print()\n",
    "\n",
    "print('add value of banana into fruit')\n",
    "dic['fruit'].append('banana')\n",
    "print(dic)\n"
   ]
  },
  {
   "cell_type": "markdown",
   "metadata": {},
   "source": [
    "Create a dictionary where the keys are integer numbers from 0 to 10 and the corresponding values are the square of the key value.  "
   ]
  },
  {
   "cell_type": "code",
   "execution_count": 90,
   "metadata": {},
   "outputs": [
    {
     "name": "stdout",
     "output_type": "stream",
     "text": [
      "{0: [0], 1: [1], 2: [4], 3: [9], 4: [16], 5: [25], 6: [36], 7: [49], 8: [64], 9: [81], 10: [100]}\n"
     ]
    }
   ],
   "source": [
    "dic = {}\n",
    "\n",
    "for i in range(0,11):\n",
    "   dic[i]=[i*i]\n",
    "\n",
    "print(dic)"
   ]
  },
  {
   "cell_type": "markdown",
   "metadata": {},
   "source": [
    "## Getting started with File Input & Output\n",
    "\n",
    "Python can easily handle reading and writing files. As far as Python is concerned, a file is just a string (often very large!) stored on your local file system, that you can read or write, gradually or all together.\n",
    "\n",
    "### Writing Files\n",
    "\n",
    "*open()* returns a file object, and is most commonly used with two arguments: *open(filename, mode)*."
   ]
  },
  {
   "cell_type": "code",
   "execution_count": 92,
   "metadata": {},
   "outputs": [],
   "source": [
    "outFile = open('sample.txt', 'w')\n",
    "outFile.write('The first line\\nThe second line\\nThe third line\\n')\n",
    "outFile.close()"
   ]
  },
  {
   "cell_type": "markdown",
   "metadata": {},
   "source": [
    "The first line creates a file object, which links Python to your computer’s file system. The first parameter in the file constructor gives the file name, *sample.txt*. The second parameter indicates how you use the file. The 'w' is short for **w**rite. If the file already existed, the old contents are destroyed.\n",
    "\n",
    "And 'a' opens the file for **a**ppending; any data written to the file is automatically added to the end. 'r+' opens the file for both reading and writing.\n",
    "\n",
    "The *close* line is essential for Python to make sure everything is really written, and to relinquish control of the file."
   ]
  },
  {
   "cell_type": "markdown",
   "metadata": {},
   "source": [
    "### Methods of File Objects\n",
    "\n",
    "To read a file’s contents, call *f.read(size)*, which reads some quantity of data and returns it as a string. *size* is an optional numeric argument. When *size* is omitted or negative, the entire contents of the file will be read and returned."
   ]
  },
  {
   "cell_type": "code",
   "execution_count": null,
   "metadata": {},
   "outputs": [],
   "source": [
    "outFile = open('sample.txt', 'r')\n",
    "outFile.read()"
   ]
  },
  {
   "cell_type": "markdown",
   "metadata": {},
   "source": [
    "For reading lines from a file, you can loop over the file object. This is memory efficient, fast, and leads to simple code:"
   ]
  },
  {
   "cell_type": "code",
   "execution_count": null,
   "metadata": {},
   "outputs": [],
   "source": [
    "outFile = open('sample.txt', 'r')\n",
    "for line in outFile:\n",
    "    print(line, end='')"
   ]
  },
  {
   "cell_type": "markdown",
   "metadata": {},
   "source": [
    "It is good practice to use the *with* keyword when dealing with file objects. This has the advantage that the file is properly closed after its suite finishes, even if an exception is raised on the way. It is also much shorter than writing equivalent try-finally blocks:"
   ]
  },
  {
   "cell_type": "code",
   "execution_count": null,
   "metadata": {},
   "outputs": [],
   "source": [
    "with open('sample.txt', 'r') as f:\n",
    "    outFile = f.read()\n",
    "outFile"
   ]
  },
  {
   "cell_type": "code",
   "execution_count": null,
   "metadata": {},
   "outputs": [],
   "source": [
    "f.closed"
   ]
  },
  {
   "cell_type": "code",
   "execution_count": null,
   "metadata": {},
   "outputs": [],
   "source": [
    "with open('sample.txt', 'a') as f:\n",
    "    f.write('The fourth line\\n')"
   ]
  },
  {
   "cell_type": "code",
   "execution_count": null,
   "metadata": {},
   "outputs": [],
   "source": [
    "with open('sample.txt', 'r') as f:\n",
    "    print(f.readlines())  # readlines – reads the entire file and returns it as a list of strings"
   ]
  },
  {
   "cell_type": "markdown",
   "metadata": {},
   "source": [
    "### Open a Remote File via URL\n",
    "\n",
    "Python can easily access the content of a webpage via its URL, and print out locally line-by-line without saving a local copy of the file. "
   ]
  },
  {
   "cell_type": "code",
   "execution_count": 163,
   "metadata": {},
   "outputs": [
    {
     "name": "stdout",
     "output_type": "stream",
     "text": [
      " CSCE 676 :: Data Mining and Analysis :: Fall 2019 \n",
      "\n",
      " CSCE 676 :: Data Mining and Analysis :: Fall 2019 \n",
      "MWF 9:10-10:00am in HRBB 113\n",
      "\n",
      " Instructor: James Caverlee,\n",
      "HRBB 425H  Office Hours: 10-11am Monday and 3-4pm Wednesday \n",
      "\n",
      "Department of Computer Science and\n",
      "Engineering  Texas A&M\n",
      "University\n",
      "\n",
      " TA: Ziwei Zhu\n",
      " Office Hours: 3-4pm on Tuesday and Thursday in HRBB 408A\n",
      "\n",
      "\n",
      "Course Schedule :: Project\n",
      "\n",
      "Course Summary\n",
      "\n",
      " This course is a broad overview of data mining, integrating related concepts from machine learning and statistics; exploratory data analysis, pattern mining, clustering and classification; applications to scientific and online data. \n",
      "\n",
      "By the end of the semester you will be able to: \n",
      "\n",
      "\n",
      "Define and explain the key concepts and models relevant to data mining and analysis, including data preparation, normalization, dimensionality reduction, text mining, data visualization, and so on. \n",
      "\n",
      "Design, implement, and evaluate data mining algorithms like associate rules, clustering, anomaly detection, and do so on modern scalable cloud computing platforms (e.g., Spark).\n",
      "\n",
      "Identify the salient features and apply recent research results in data mining, including topics such as fairness, graph mining, and large-scale mining.\n",
      "\n",
      "\n",
      "\n",
      "Communication\n",
      " All course communication will be via Piazza.  We will post often to Piazza, so you should plan to check it often (every day). \n",
      "\n",
      "\n",
      "\n",
      "Prerequisites\n",
      " I expect all students to have had some previous exposure to basic probability, statistics, algorithms, and data structures. You should be able to design and develop large programs and learn new software libraries on your own.\n",
      "\t\n",
      "\n",
      "Textbooks\n",
      " We will read some selections from:\n",
      "\n",
      "\n",
      " MMDS: Mining of Massive Datasets (3rd edition), Jure Leskovec, Anand Rajarman, and Jeff Ullman. Slides + resources: http://www.mmds.org; Book: http://i.stanford.edu/~ullman/mmds/book0n.pdf.\n",
      " DMCT: Data Mining Concepts and Techniques (3rd edition), by Jiawei Han, Micheline Kamber, and Jian Pei. Slides + resources: https://hanj.cs.illinois.edu/bk3/. Book: https://learning.oreilly.com/library/view/data-mining-concepts/9780123814791/ (requires TAMU)\n",
      " DMTT: Data Mining, The Textbook, by Charu Aggarwal. Resources: http://www.charuaggarwal.net/Data-Mining.htm\n",
      "\n",
      "\n",
      "Grading\n",
      " The grading scale is A: 90-100, B: 80-89, C: 70-79, D: 60-69, F: 0-59. The course grading policy is as follows: \n",
      "\n",
      "Participation (5%). Attendance in class and participation in the discussion are both important to your success in the course. We expect you to participate in online discussions on Piazza. Over the course of the semester, you should post at least one substantive, interesting post to the discussion forum. You must also participate in at least three threads on Piazza. Towards your participation grade, the final day to post to the discussion group is November 27. (Of course you are welcome to continue to post afterwards, but these posts will not count toward your participation grade.)\n",
      "\n",
      "\n",
      "\n",
      "Quiz (10%). We will have one quizzes during a regular class period, worth 10%. The quiz is closed book, but you may bring one standard 8.5\" by 11\" piece of paper with anything you deem appropriate or significant (front and back). No devices allowed.\n",
      "\n",
      "\n",
      "Final Exam (30%). We will have a comprehensive two-hour final exam on Monday, December 9, from 8am to 10am. For the final, you may bring two standard 8.5\" by 11\" pieces of paper with anything you deem appropriate or significant (front and back). No devices allowed.\n",
      "\n",
      "\n",
      "Homework (25%). We will have several homework assignments. These will be a mix of programming assignments and problem sets. Programming assignments will be in Python; we make no expectations that you have been exposed to Python before, but we do expect you to come up to speed rapidly.\n",
      "\n",
      "All homework assignments must be submitted by 11:59pm Central time on the due date. For the homework assignments, you may talk to any other class member or work in groups to discuss the problems in a general way. However, your actual detailed solution must be yours alone. If you do talk to other students, you must write on your assignment who it is that you discussed the problems with. Your submitted work must be written solely by you and not contain work directly copied from others.\n",
      "\n",
      "Homework Collaboration Clarification: To clarify, your homework is yours alone and you are expected to complete each homework independently. Your solution should be written by you without the direct aid or help of anyone else. However, we believe that \tcollaboration and team work are important for facilitating learning, so we encourage you \tto discuss problems and general problem approaches (but not actual solutions) with your \tclassmates. If you do have a chat with another student about a homework problem, you \tmust inform us by writing a note on your homework submission (e.g., Bob pointed me to \tthe relevant section for problem 3). The basic rule is that no student should explicitly share a solution with another student (and thereby circumvent the basic learning process), but it is okay to share general approaches, directions, and so on. If you feel like you have an issue that needs clarification, feel free to contact either me or the TA.\n",
      "\n",
      "Homework Plagiarism Policy: We will use the Stanford Moss system to check homework submissions for plagiarism. Students found to have engaged in plagiarism will be punished severely, typically earning an automatic F in the course and being reported to the Aggie Honor System.\n",
      "\n",
      "Homework Late Days: For the homework assignments, you have a total of 5 late days that you can use during the semester. However, a single assignment can be submitted up to 3 days late only, so we can post solutions in a timely fashion. \n",
      "For the purposes of the class, a late day is an indivisible 24-hour unit. Once you exhaust your 5 late days, we will not accept any late submissions. \n",
      "\n",
      "\n",
      "Project (30%). For the project, you will work in teams of three or four on a problem related to data mining for social good.\n",
      "\n",
      "\n",
      "Regrade Policy: If you feel that we have made an error in grading, you may resubmit the assignment for a regrade within 7 days of receiving your graded assignment. You must include a brief written statement describing what portion has been graded in error. Note that we reserve the right to examine the entire assignment, so there is a chance we may find errors in your assignment that we missed before.\n",
      "\n",
      "\n",
      "Americans with Disabilities Act (ADA) Policy\n",
      "Statement The Americans with Disabilities Act (ADA) is a federal anti-discrimination statute that provides comprehensive civil rights protection for persons with disabilities. Among other things, this legislation requires that all students with disabilities be guaranteed a learning environment that provides for reasonable accommodation of their disabilities. If you believe you have a disability requiring an accommodation, please contact Disability Services, currently located in the Disability Services building at the Student Services at White Creek complex on west campus or call 979-845-1637. For additional information, visit http://disability.tamu.edu.\n",
      "\n",
      "Academic Integrity Statements\n",
      "\n",
      "AGGIE HONOR CODE:  ''An Aggie does not lie, cheat, or steal or tolerate\n",
      "those who do.'' Upon accepting admission to Texas A&M University, a\n",
      "student immediately assumes a commitment to uphold the Honor Code, to\n",
      "accept responsibility for learning, and to follow the philosophy and\n",
      "rules of the Honor System. Students will be required to state their\n",
      "commitment on examinations, research papers, and other academic work.\n",
      "Ignorance of the rules does not exclude any member of the TAMU community\n",
      "from the requirements or the processes of the Honor System. For\n",
      "additional information please visit: http://aggiehonor.tamu.edu\n",
      "  \n",
      "\n"
     ]
    }
   ],
   "source": [
    "import urllib3  # the lib that handles the url stuff\n",
    "from bs4 import BeautifulSoup\n",
    "\n",
    "url = \"http://courses.cse.tamu.edu/caverlee/csce676/\"\n",
    "\n",
    "http = urllib3.PoolManager()\n",
    " \n",
    "response = http.request('GET', url)\n",
    "soup = BeautifulSoup(response.data)\n",
    "\n",
    "for line in soup:\n",
    "         print (line.get_text())\n"
   ]
  },
  {
   "cell_type": "markdown",
   "metadata": {},
   "source": [
    "## Counting Word Frequency\n",
    "\n",
    "One of the most fundamental tasks in information retrieval is to count the frequency of each word in a document.\n",
    "\n",
    "In the following example, we start with a string and split it into a list. We then create an (initially empty) list called *wordfreq*, go through each word in the *wordlist*, and count the number of times that word appears in the whole list. We then add each word’s count to our wordfreq list. Using the *zip* operation, we are able to match the first word of the word list with the first number in the frequency list, the second word and second frequency, and so on. We end up with a list of word and frequency pairs. The *str* function converts any object to a string so that it can be printed."
   ]
  },
  {
   "cell_type": "code",
   "execution_count": 120,
   "metadata": {},
   "outputs": [
    {
     "name": "stdout",
     "output_type": "stream",
     "text": [
      "String\n",
      "it was the best of times it was the worst of times it was the age of wisdom it was the age of foolishness\n",
      "\n",
      "List\n",
      "['it', 'was', 'the', 'best', 'of', 'times', 'it', 'was', 'the', 'worst', 'of', 'times', 'it', 'was', 'the', 'age', 'of', 'wisdom', 'it', 'was', 'the', 'age', 'of', 'foolishness']\n",
      "\n",
      "Frequencies\n",
      "[4, 4, 4, 1, 4, 2, 4, 4, 4, 1, 4, 2, 4, 4, 4, 2, 4, 1, 4, 4, 4, 2, 4, 1]\n",
      "\n",
      "Pairs\n",
      "{'it': 4, 'was': 4, 'the': 4, 'best': 1, 'of': 4, 'times': 2, 'worst': 1, 'age': 2, 'wisdom': 1, 'foolishness': 1}\n"
     ]
    }
   ],
   "source": [
    "wordstring = 'it was the best of times it was the worst of times '\n",
    "wordstring += 'it was the age of wisdom it was the age of foolishness'\n",
    "\n",
    "wordlist = wordstring.split()\n",
    "\n",
    "wordfreq = []\n",
    "for w in wordlist:\n",
    "    wordfreq.append(wordlist.count(w))\n",
    "\n",
    "print(\"String\\n\" + wordstring +\"\\n\")\n",
    "\n",
    "print(\"List\\n\" + str(wordlist) + \"\\n\")\n",
    "\n",
    "\n",
    "print(\"Frequencies\\n\" + str(wordfreq) + \"\\n\")\n",
    "\n",
    "print(\"Pairs\\n\" + str(dict(zip(wordlist, wordfreq))))"
   ]
  },
  {
   "cell_type": "markdown",
   "metadata": {},
   "source": [
    "Now, your job is to open up the url we mentioned a few cells above. Then output the word-frequency pairs in that url, sorted in order of descending frequency. In the case of ours Dickens example here, the output would look something like: [('of', 4), ('it', 4), ('the', 4), ('was', 4), ('age', 2), ('times', 2), ('foolishness', 1), ('worst', 1), ('wisdom', 1), ('best', 1)].\n",
    "\n",
    "Your job is to output a the word-frequency pairs for the url."
   ]
  },
  {
   "cell_type": "code",
   "execution_count": 183,
   "metadata": {},
   "outputs": [
    {
     "name": "stdout",
     "output_type": "stream",
     "text": [
      "Result: {('participation', 3), ('data.', 1), ('being', 1), ('Integrity', 1), ('Homework', 4), ('Aggie', 2), ('writing', 1), ('come', 1), ('December', 1), ('learn', 1), ('selections', 1), ('Textbooks', 1), ('tolerate', 1), ('concepts', 2), ('8am', 1), ('portion', 1), ('cloud', 1), ('issue', 1), ('assignment.', 1), ('exhaust', 1), ('(3rd', 2), ('both', 1), ('edition),', 2), ('anti-discrimination', 1), ('problems', 3), ('Prerequisites', 1), ('D:', 1), ('with.', 1), ('Student', 1), ('Office', 2), ('Tuesday', 1), ('Late', 1), ('24-hour', 1), ('expect', 3), ('solutions)', 1), ('you', 31), ('models', 1), ('associate', 1), ('These', 1), ('statement', 1), ('directly', 1), ('book,', 1), ('comprehensive', 2), ('rule', 1), ('follows:', 1), ('Bob', 1), ('assignments', 3), ('http://www.charuaggarwal.net/Data-Mining.htm', 1), ('brief', 1), ('section', 1), ('Students', 2), ('11:59pm', 1), ('by', 8), ('However,', 3), ('reasonable', 1), ('purposes', 1), ('analysis,', 2), ('several', 1), ('earning', 1), ('learning', 3), ('Honor', 4), ('commitment', 2), ('currently', 1), ('Central', 1), ('979-845-1637.', 1), ('Analysis', 2), ('Disability', 2), ('programs', 1), ('9,', 1), ('0-59.', 1), ('campus', 1), ('Disabilities', 2), ('60-69,', 1), ('machine', 1), ('(10%).', 1), ('encourage', 1), ('explain', 1), ('check', 2), ('discuss', 2), ('class,', 1), ('research', 2), ('8.5\"', 2), ('facilitating', 1), ('all', 2), ('HRBB', 3), ('basic', 3), ('Code,', 1), ('Instructor:', 1), ('previous', 1), ('grade,', 1), ('online', 2), ('develop', 1), ('Han,', 1), ('final,', 1), ('408A', 1), ('class', 3), ('on', 12), ('7', 1), ('philosophy', 1), ('statistics;', 1), ('Your', 2), ('Towards', 1), ('System.', 3), ('within', 1), ('own.', 1), ('day).', 1), ('missed', 1), ('anything', 2), ('participate', 2), ('who', 2), ('accommodation,', 1), ('Engineering', 1), ('Aggarwal.', 1), ('All', 2), ('and', 35), ('F:', 1), ('due', 1), ('We', 7), ('call', 1), ('sets.', 1), ('thereby', 1), ('before,', 1), ('allowed.', 2), ('To', 1), ('White', 1), ('libraries', 1), ('may', 5), ('including', 2), ('member', 2), ('programming', 1), ('detailed', 1), (\"do.''\", 1), ('follow', 1), ('students', 2), ('way.', 1), ('Design,', 1), ('assumes', 1), ('113', 1), ('general', 3), ('west', 1), ('back).', 2), ('clarification,', 1), ('as', 2), ('post', 6), ('Monday,', 1), ('related', 2), ('uphold', 1), ('data', 9), ('punished', 1), ('rules', 2), ('been', 2), ('the', 41), ('each', 1), ('period,', 1), ('Spark).', 1), ('90-100,', 1), ('Charu', 1), ('You', 3), ('Piazza,', 1), ('Python', 1), ('If', 5), ('Concepts', 1), ('Identify', 1), ('Data', 4), ('Piazza.', 3), ('November', 1), ('grade.)', 1), ('disabilities', 1), ('AGGIE', 1), ('communication', 1), ('chat', 1), ('copied', 1), ('piece', 1), ('work.', 1), ('Mining', 4), ('directions,', 1), ('via', 1), ('Jure', 1), ('closed', 1), ('free', 1), ('assignment,', 1), ('detection,', 1), ('plagiarism.', 1), ('steal', 1), ('cheat,', 1), ('pattern', 1), ('C:', 1), ('(ADA)', 2), ('probability,', 1), ('fashion.', 1), ('actual', 2), ('results', 1), ('(requires', 1), ('bring', 2), ('Course', 2), ('worth', 1), ('responsibility', 1), ('software', 1), ('Programming', 1), ('Quiz', 1), ('what', 1), ('aid', 1), ('scientific', 1), ('broad', 1), ('toward', 1), ('http://disability.tamu.edu.', 1), ('is', 12), ('any', 3), ('explicitly', 1), ('anyone', 1), ('describing', 1), ('course.', 1), ('Clarification:', 1), ('homework', 9), ('70-79,', 1), ('Department', 1), ('accommodation', 1), ('requires', 1), ('rights', 1), ('Summary', 1), ('Once', 1), ('include', 1), ('disability', 1), ('with', 9), ('regrade', 1), ('receiving', 1), ('collaboration', 1), ('there', 1), ('large', 1), ('https://hanj.cs.illinois.edu/bk3/.', 1), ('indivisible', 1), ('their', 2), ('Texas', 2), ('Jian', 1), ('Micheline', 1), ('Services', 2), ('good.', 1), ('one', 3), ('discussed', 1), ('mining', 3), ('Wednesday', 1), ('CODE:', 1), ('community', 1), ('James', 1), ('Note', 1), ('inform', 1), ('be', 13), ('share', 2), ('https://learning.oreilly.com/library/view/data-mining-concepts/9780123814791/', 1), ('Monday', 1), ('(30%).', 2), ('a', 22), ('some', 2), ('discussions', 1), ('TAMU', 1), ('Anand', 1), ('immediately', 1), ('end', 1), ('visualization,', 1), ('Ullman.', 1), ('No', 2), ('must', 7), ('http://aggiehonor.tamu.edu', 1), ('for', 8), ('CSCE', 2), ('anomaly', 1), ('posts', 1), ('27.', 1), ('continue', 1), ('Moss', 1), ('are', 4), ('an', 5), ('Stanford', 1), ('expectations', 1), ('four', 1), ('reported', 1), ('statistics,', 1), ('applications', 1), ('work', 5), ('Resources:', 1), ('statute', 1), ('Americans', 2), ('not', 6), ('things,', 1), ('Pei.', 1), ('no', 2), ('Rajarman,', 1), ('Regrade', 1), ('topics', 1), ('mining.', 1), ('building', 1), ('Creek', 1), ('success', 1), ('Fall', 2), ('exploratory', 1), ('Participation', 1), ('9:10-10:00am', 1), ('team', 1), ('federal', 1), ('regular', 1), ('Collaboration', 1), ('5', 2), ('does', 2), ('alone', 1), ('timely', 1), ('without', 1), ('HONOR', 1), ('Upon', 1), ('Textbook,', 1), ('Over', 1), ('Project', 2), ('algorithms,', 1), ('guaranteed', 1), ('disabilities.', 2), ('Statement', 1), ('Kamber,', 1), ('Computer', 1), ('discussion', 3), ('two', 1), ('error.', 1), ('or', 10), ('TA.', 1), ('relevant', 2), ('appropriate', 2), ('automatic', 1), ('civil', 1), ('able', 2), ('10am.', 1), ('(25%).', 1), ('protection', 1), ('requirements', 1), ('fairness,', 1), ('mining,', 5), ('substantive,', 1), ('assignment', 4), ('single', 1), ('processes', 1), ('new', 1), ('implement,', 1), ('integrating', 1), ('10-11am', 1), ('submission', 1), ('assignments.', 1), ('threads', 1), ('requiring', 1), ('(e.g.,', 2), ('DMCT:', 1), ('paper', 2), ('Techniques', 1), ('scale', 1), ('to', 37), ('clustering,', 1), ('10%.', 1), ('either', 1), ('quizzes', 1), ('rapidly.', 1), ('Caverlee,', 1), ('solution', 3), ('okay', 1), ('days,', 1), ('MWF', 1), ('A&M', 2), ('submitted', 3), ('Hours:', 2), ('other', 4), ('676', 2), ('Academic', 1), ('errors', 1), ('::', 5), ('important', 2), ('semester,', 1), ('lie,', 1), ('mix', 1), ('student', 4), ('clustering', 1), ('salient', 1), ('count', 1), ('grading,', 1), ('Exam', 1), ('significant', 2), ('speed', 1), ('3-4pm', 2), ('only,', 1), ('made', 1), ('I', 1), ('visit:', 1), ('do', 4), ('located', 1), ('days', 3), ('submissions', 1), ('rules,', 1), ('environment', 1), ('submissions.', 1), ('examine', 1), ('Datasets', 1), ('of', 18), ('MMDS:', 1), ('written', 3), ('problem,', 1), ('we', 10), ('write', 1), ('it', 3), ('plagiarism', 1), ('group', 1), ('Schedule', 1), ('3).', 1), ('found', 1), ('date.', 1), ('classification;', 1), ('least', 2), ('platforms', 1), ('Science', 1), ('exam', 1), ('policy', 1), ('problem', 4), ('three', 2), ('about', 1), ('11\"', 2), ('accept', 2), ('+', 2), ('assignments,', 2), ('two-hour', 1), ('accepting', 1), ('entire', 1), ('else.', 1), ('welcome', 1), ('contain', 1), ('pointed', 1), ('semester', 1), ('examinations,', 1), ('solutions', 1), ('so', 7), ('Ignorance', 1), ('read', 1), ('right', 1), ('quiz', 1), ('solely', 1), ('pieces', 1), ('such', 1), ('recent', 1), ('deem', 2), ('The', 6), ('This', 1), ('preparation,', 1), ('expected', 1), ('2019', 2), ('http://www.mmds.org;', 1), ('from', 4), ('direct', 1), ('in', 19), ('others.', 1), ('at', 4), ('Services,', 1), ('independently.', 1), ('have', 11), ('state', 1), ('Zhu', 1), ('overview', 1), ('reduction,', 1), ('circumvent', 1), ('admission', 1), ('Define', 1), ('resubmit', 1), ('had', 1), ('time', 1), ('chance', 1), ('graph', 1), ('Jiawei', 1), ('features', 1), ('exposed', 1), ('modern', 1), ('teams', 1), ('University,', 1), ('please', 2), ('groups', 1), ('Act', 2), ('text', 1), ('often', 2), ('evaluate', 1), ('Grading', 1), ('afterwards,', 1), ('late', 5), ('visit', 1), ('us', 1), ('project,', 1), ('A:', 1), ('on.', 2), ('from:', 1), ('find', 1), ('typically', 1), ('Thursday', 1), ('(but', 1), ('complete', 1), ('additional', 2), ('up', 2), ('but', 4), ('Final', 1), ('during', 2), ('(5%).', 1), ('structures.', 1), ('approaches,', 1), ('Statements', 1), ('before.', 1), ('yours', 2), ('legislation', 1), ('unit.', 1), ('DMTT:', 1), ('complex', 1), ('(Of', 1), ('talk', 2), ('information', 1), ('(front', 2), ('http://i.stanford.edu/~ullman/mmds/book0n.pdf.', 1), ('TAMU)', 1), ('Among', 1), ('forum.', 1), ('students,', 1), ('note', 1), ('Slides', 2), ('B:', 1), ('help', 1), ('classmates.', 1), ('exclude', 1), ('engaged', 1), ('me', 2), ('information,', 1), (\"''An\", 1), ('error', 1), ('will', 15), ('standard', 2), ('plan', 1), ('papers,', 1), ('grading', 2), ('learning,', 2), ('your', 12), ('required', 1), ('Jeff', 1), ('process),', 1), ('large-scale', 1), ('approaches', 1), ('Mining,', 1), ('Policy:', 2), ('interesting', 1), ('believe', 2), ('another', 2), ('Communication', 1), ('Book:', 2), ('normalization,', 1), ('feel', 3), ('scalable', 1), ('should', 5), ('Plagiarism', 1), ('resources:', 2), ('use', 2), ('3', 1), ('425H', 1), ('80-89,', 1), ('provides', 2), ('final', 2), ('to:', 1), ('dimensionality', 1), ('computing', 1), ('academic', 1), ('persons', 1), ('like', 2), ('Leskovec,', 1), ('Attendance', 1), ('F', 1), ('For', 7), ('Days:', 1), ('TA:', 1), ('make', 1), ('has', 1), ('University', 1), ('needs', 1), ('those', 1), ('algorithms', 1), ('social', 1), ('Python;', 1), ('also', 1), ('graded', 2), ('key', 1), ('devices', 2), ('day', 2), ('this', 1), ('contact', 2), ('Policy', 1), ('design', 1), ('can', 3), ('By', 1), ('these', 1), ('total', 1), ('Ziwei', 1), ('reserve', 1), ('apply', 1), ('course', 6), ('exposure', 1), ('that', 12), ('(and', 1), ('system', 1), ('alone.', 1), ('(every', 1), ('clarify,', 1), ('semester.', 1), ('severely,', 1), ('Massive', 1)}\n"
     ]
    }
   ],
   "source": [
    "import urllib3    # the lib that handles the url stuff\n",
    "from bs4 import BeautifulSoup\n",
    "\n",
    "url = \"http://courses.cse.tamu.edu/caverlee/csce676/\"\n",
    "\n",
    "http = urllib3.PoolManager()\n",
    " \n",
    "response = http.request('GET', url)\n",
    "soup = BeautifulSoup(response.data)\n",
    "\n",
    "wordstring = ''\n",
    "\n",
    "for line in soup:  \n",
    "         v = line.get_text()\n",
    "         wordstring += v\n",
    "        \n",
    "##print (wordstring)\n",
    "\n",
    "wordlist = wordstring.split()\n",
    "\n",
    "wordfreq = []\n",
    "\n",
    "for w in wordlist:\n",
    "    wordfreq.append(wordlist.count(w))\n",
    "\n",
    "z = zip(wordlist, wordfreq)\n",
    "    \n",
    "print('Result: {}'.format({(a,b) for a,b in zip(wordlist, wordfreq)}))\n",
    "     "
   ]
  },
  {
   "cell_type": "code",
   "execution_count": null,
   "metadata": {},
   "outputs": [],
   "source": []
  }
 ],
 "metadata": {
  "anaconda-cloud": {},
  "kernelspec": {
   "display_name": "Python 3",
   "language": "python",
   "name": "python3"
  },
  "language_info": {
   "codemirror_mode": {
    "name": "ipython",
    "version": 3
   },
   "file_extension": ".py",
   "mimetype": "text/x-python",
   "name": "python",
   "nbconvert_exporter": "python",
   "pygments_lexer": "ipython3",
   "version": "3.7.3"
  }
 },
 "nbformat": 4,
 "nbformat_minor": 1
}
